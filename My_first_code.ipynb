{
  "nbformat": 4,
  "nbformat_minor": 0,
  "metadata": {
    "colab": {
      "provenance": []
    },
    "kernelspec": {
      "name": "python3",
      "display_name": "Python 3"
    },
    "language_info": {
      "name": "python"
    }
  },
  "cells": [
    {
      "cell_type": "code",
      "execution_count": null,
      "metadata": {
        "colab": {
          "base_uri": "https://localhost:8080/"
        },
        "id": "ZstyCoO6fjhb",
        "outputId": "f8961686-6cc2-461c-9cf3-002236ef40f9"
      },
      "outputs": [
        {
          "output_type": "stream",
          "name": "stdout",
          "text": [
            "Hello,world:)!\n"
          ]
        }
      ],
      "source": [
        "words=\"Hello,world:)!\"\n",
        "print(words)"
      ]
    },
    {
      "cell_type": "code",
      "source": [
        "print(\"Hello,world!:)\")"
      ],
      "metadata": {
        "colab": {
          "base_uri": "https://localhost:8080/"
        },
        "id": "oaPfjDykzq3d",
        "outputId": "45e992fc-d74d-46ec-b5c1-075980e82bd8"
      },
      "execution_count": null,
      "outputs": [
        {
          "output_type": "stream",
          "name": "stdout",
          "text": [
            "Hello,world!:)\n"
          ]
        }
      ]
    }
  ]
}